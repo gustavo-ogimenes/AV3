{
 "cells": [
  {
   "cell_type": "markdown",
   "metadata": {},
   "source": [
    "# Import e leitura de dados"
   ]
  },
  {
   "cell_type": "code",
   "execution_count": 3,
   "metadata": {},
   "outputs": [],
   "source": [
    "import pandas as pd\n",
    "import matplotlib.pyplot as plt\n",
    "import seaborn as sns\n",
    "\n",
    "df = pd.read_csv(\"C:/Users/gustavo.gimenes/Desktop/database.csv\")\n",
    "\n",
    "# Remover possíveis duplicatas\n",
    "df = df.drop_duplicates()"
   ]
  },
  {
   "cell_type": "code",
   "execution_count": 4,
   "metadata": {},
   "outputs": [],
   "source": [
    "import folium\n",
    "\n",
    "# Centralizar no centro aproximado dos dados\n",
    "map_center = [df['Latitude'].mean(), df['Longitude'].mean()]\n",
    "\n",
    "m = folium.Map(location=map_center, zoom_start=2)\n",
    "\n",
    "# Iterar apenas sobre linhas com latitude e longitude válidas\n",
    "for idx, row in df.dropna(subset=['Latitude', 'Longitude']).iterrows():\n",
    "    folium.CircleMarker(\n",
    "        location=[row['Latitude'], row['Longitude']],\n",
    "        radius=3,\n",
    "        popup=f\"Magnitude: {row['Magnitude']}\",\n",
    "        color='red',\n",
    "        fill=True,\n",
    "        fill_opacity=0.7\n",
    "    ).add_to(m)\n",
    "\n",
    "m.save('earthquake_map.html')\n"
   ]
  },
  {
   "cell_type": "code",
   "execution_count": 6,
   "metadata": {},
   "outputs": [],
   "source": [
    "import folium\n",
    "from folium.plugins import HeatMap\n",
    "\n",
    "# Filtrar dados com lat/lon válidos\n",
    "df_map = df.dropna(subset=['Latitude', 'Longitude'])\n",
    "\n",
    "# Criar mapa centrado na média dos pontos\n",
    "map_center = [df_map['Latitude'].mean(), df_map['Longitude'].mean()]\n",
    "m = folium.Map(location=map_center, zoom_start=2)\n",
    "\n",
    "# Preparar dados para heatmap (lista de [lat, lon, peso])\n",
    "# Pode usar magnitude como peso para dar intensidade maior a terremotos mais fortes\n",
    "heat_data = [[row['Latitude'], row['Longitude'], row['Magnitude']] for idx, row in df_map.iterrows()]\n",
    "\n",
    "# Adicionar HeatMap ao mapa\n",
    "HeatMap(heat_data, radius=15, max_zoom=9).add_to(m)\n",
    "\n",
    "# Salvar arquivo HTML\n",
    "m.save('earthquake_heatmap.html')\n"
   ]
  },
  {
   "cell_type": "markdown",
   "metadata": {},
   "source": [
    "# Relatório\n",
    "\n",
    "1. Contextualização do tema e relevância científica:\n",
    "\n",
    "Os terremotos são fenômenos naturais que representam uma importante área de estudo na geociência devido ao seu impacto direto na vida humana, infraestrutura e ambiente. A análise dos padrões temporais e espaciais das ocorrências sísmicas é essencial para melhorar o entendimento dos processos tectônicos, avaliar riscos geológicos e planejar estratégias de mitigação de desastres naturais. Com o avanço das tecnologias de monitoramento, grandes bases de dados globais de terremotos estão disponíveis, possibilitando análises estatísticas e visuais detalhadas que podem revelar tendências e correlações não aparentes em análises simples.\n",
    "\n",
    "Este relatório apresenta uma análise exploratória do banco de dados de terremotos fornecido pelo USGS, disponível no Kaggle, que contém registros globais de eventos sísmicos, incluindo data, magnitude, profundidade e localização geográfica. O objetivo é utilizar técnicas de visualização de dados para explorar padrões temporais, espaciais e características dos terremotos, fornecendo insights para a comunidade científica e gestores de risco.\n",
    "\n",
    "\n",
    "2. Principais insights obtidos nas visualizações:\n",
    "\n",
    "Análise Temporal\n",
    "A série temporal dos terremotos mensais revelou uma distribuição relativamente constante do número de eventos ao longo dos anos, sem evidências claras de tendências ascendentes ou descendentes significativas em escala global. Contudo, observou-se variação sazonal em alguns períodos, possivelmente associada a oscilações naturais na atividade tectônica ou diferenças na detecção e registro dos eventos.\n",
    "\n",
    "Correlação Magnitude vs Profundidade\n",
    "O gráfico de dispersão entre magnitude e profundidade mostrou uma ampla variabilidade, indicando que terremotos de grandes magnitudes ocorrem em diferentes profundidades. A maior concentração dos eventos está em profundidades rasas (até 70 km), mas terremotos profundos também apresentam magnitudes elevadas. Isso sugere que a magnitude do terremoto não é exclusivamente dependente da profundidade, refletindo a complexidade dos processos tectônicos envolvidos.\n",
    "\n",
    "Distribuição da Magnitude\n",
    "As visualizações de distribuição da magnitude, incluindo histograma, boxplot e violin plot, mostraram que a maioria dos terremotos registrados apresenta magnitudes entre 2.5 e 5.0, evidenciando a prevalência de eventos moderados a pequenos. A distribuição é assimétrica com uma cauda longa para magnitudes maiores, indicando que eventos muito fortes são raros, porém de grande importância devido aos seus impactos.\n",
    "\n",
    "Visualização Geoespacial e Heatmap\n",
    "O mapa interativo dos terremotos evidenciou a concentração dos eventos em regiões tectonicamente ativas, como o Cinturão de Fogo do Pacífico, que inclui a costa oeste das Américas, Japão e Indonésia. O heatmap ponderado pela magnitude destacou ainda mais essas áreas, ressaltando as zonas de maior risco sísmico. Essas informações são cruciais para planejamento urbano, políticas públicas e respostas emergenciais.\n",
    "\n",
    "\n",
    "3. Discussão crítica das limitações dos dados e da análise:\n",
    "\n",
    "Apesar dos insights valiosos, existem limitações importantes na análise realizada. Primeiramente, o dataset depende da qualidade e cobertura das redes de monitoramento sísmico, que podem variar regionalmente, afetando a detecção de terremotos menores, especialmente em áreas remotas. Isso pode introduzir vieses na análise espacial e temporal.\n",
    "\n",
    "Além disso, os dados agregados globalmente não capturam particularidades locais, como a influência de falhas geológicas específicas, variabilidade geotectônica e fatores ambientais que podem modular a atividade sísmica. A análise estatística e visual exploratória, embora útil para identificar padrões gerais, não substitui análises geofísicas detalhadas que considerem modelos físicos e parâmetros locais.\n",
    "\n",
    "Por fim, a representação da magnitude como peso no heatmap pode exagerar a importância de eventos isolados muito fortes, ofuscando padrões de eventos menores mas frequentes que também são relevantes para o risco cumulativo."
   ]
  },
  {
   "cell_type": "markdown",
   "metadata": {},
   "source": []
  }
 ],
 "metadata": {
  "kernelspec": {
   "display_name": "base",
   "language": "python",
   "name": "python3"
  },
  "language_info": {
   "codemirror_mode": {
    "name": "ipython",
    "version": 3
   },
   "file_extension": ".py",
   "mimetype": "text/x-python",
   "name": "python",
   "nbconvert_exporter": "python",
   "pygments_lexer": "ipython3",
   "version": "3.12.7"
  }
 },
 "nbformat": 4,
 "nbformat_minor": 2
}
