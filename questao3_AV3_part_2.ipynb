{
 "cells": [
  {
   "cell_type": "markdown",
   "metadata": {},
   "source": [
    "# Import e leitura de dados"
   ]
  },
  {
   "cell_type": "code",
   "execution_count": 1,
   "metadata": {},
   "outputs": [],
   "source": [
    "import pandas as pd\n",
    "import matplotlib.pyplot as plt\n",
    "import seaborn as sns\n",
    "\n",
    "df = pd.read_csv(\"C:/Users/gustavo.gimenes/Desktop/database.csv\")\n",
    "\n",
    "# Remover possíveis duplicatas\n",
    "df = df.drop_duplicates()"
   ]
  },
  {
   "cell_type": "code",
   "execution_count": null,
   "metadata": {},
   "outputs": [],
   "source": [
    "import folium\n",
    "\n",
    "# Centralizar no centro aproximado dos dados\n",
    "map_center = [df['Latitude'].mean(), df['Longitude'].mean()]\n",
    "\n",
    "m = folium.Map(location=map_center, zoom_start=2)\n",
    "\n",
    "# Iterar apenas sobre linhas com latitude e longitude válidas\n",
    "for idx, row in df.dropna(subset=['Latitude', 'Longitude']).iterrows():\n",
    "    folium.CircleMarker(\n",
    "        location=[row['Latitude'], row['Longitude']],\n",
    "        radius=3,\n",
    "        popup=f\"Magnitude: {row['Magnitude']}\",\n",
    "        color='red',\n",
    "        fill=True,\n",
    "        fill_opacity=0.7\n",
    "    ).add_to(m)\n",
    "\n",
    "m.save('earthquake_map.html')\n"
   ]
  },
  {
   "cell_type": "code",
   "execution_count": null,
   "metadata": {},
   "outputs": [],
   "source": [
    "import folium\n",
    "from folium.plugins import HeatMap\n",
    "\n",
    "# Filtrar dados com lat/lon válidos\n",
    "df_map = df.dropna(subset=['Latitude', 'Longitude'])\n",
    "\n",
    "# Criar mapa centrado na média dos pontos\n",
    "map_center = [df_map['Latitude'].mean(), df_map['Longitude'].mean()]\n",
    "m = folium.Map(location=map_center, zoom_start=2)\n",
    "\n",
    "# Preparar dados para heatmap (lista de [lat, lon, peso])\n",
    "# Pode usar magnitude como peso para dar intensidade maior a terremotos mais fortes\n",
    "heat_data = [[row['Latitude'], row['Longitude'], row['Magnitude']] for idx, row in df_map.iterrows()]\n",
    "\n",
    "# Adicionar HeatMap ao mapa\n",
    "HeatMap(heat_data, radius=15, max_zoom=9).add_to(m)\n",
    "\n",
    "# Salvar arquivo HTML\n",
    "m.save('earthquake_heatmap.html')\n"
   ]
  }
 ],
 "metadata": {
  "kernelspec": {
   "display_name": "base",
   "language": "python",
   "name": "python3"
  },
  "language_info": {
   "codemirror_mode": {
    "name": "ipython",
    "version": 3
   },
   "file_extension": ".py",
   "mimetype": "text/x-python",
   "name": "python",
   "nbconvert_exporter": "python",
   "pygments_lexer": "ipython3",
   "version": "3.12.7"
  }
 },
 "nbformat": 4,
 "nbformat_minor": 2
}
